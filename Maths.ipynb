{
 "cells": [
  {
   "cell_type": "markdown",
   "id": "80350b6c",
   "metadata": {},
   "source": [
    "# Assignment 1"
   ]
  },
  {
   "cell_type": "markdown",
   "id": "366a4843",
   "metadata": {},
   "source": [
    "-  Read a matrix A from a csv file and a vector b from another csv file.\n",
    "-  Perform LU decomposition for square matrix.\n",
    "-  Solve the equation Ax=b and check whether there are 0,1 or infinitely many solutions.\n",
    "-  Do the diagonalization of a matrix (assume it is symmetric).\n",
    "-  Give exponential, sine and sigmoid functions on A.\n",
    "-  Find all the eigenpairs of A."
   ]
  },
  {
   "cell_type": "markdown",
   "id": "391a88b7",
   "metadata": {},
   "source": [
    "***\n",
    "<br>"
   ]
  },
  {
   "cell_type": "markdown",
   "id": "85b5d912",
   "metadata": {},
   "source": [
    "## Reading matrices A and b from csv files"
   ]
  },
  {
   "cell_type": "code",
   "execution_count": 1,
   "id": "deff7612",
   "metadata": {},
   "outputs": [],
   "source": [
    "#importing numpy and pandas\n",
    "import numpy as np\n",
    "import pandas as pd"
   ]
  },
  {
   "cell_type": "code",
   "execution_count": 2,
   "id": "06463600",
   "metadata": {},
   "outputs": [
    {
     "name": "stdout",
     "output_type": "stream",
     "text": [
      "Matrix A :\n",
      " [[ 2.  0.  0.]\n",
      " [ 3. -2.  1.]\n",
      " [ 1.  0.  1.]]\n"
     ]
    }
   ],
   "source": [
    "A = np.genfromtxt(\"sample csv matrix.csv\", delimiter=',')\n",
    "print(\"Matrix A :\\n\", A)"
   ]
  },
  {
   "cell_type": "code",
   "execution_count": 3,
   "id": "1c6ace7a",
   "metadata": {},
   "outputs": [
    {
     "name": "stdout",
     "output_type": "stream",
     "text": [
      "Vector b is :\n",
      " [ 2.  5. -3.]\n"
     ]
    }
   ],
   "source": [
    "b = np.genfromtxt(\"B matrix.csv\", delimiter=',')\n",
    "print(\"Vector b is :\\n\", b)"
   ]
  },
  {
   "cell_type": "markdown",
   "id": "da90aca1",
   "metadata": {},
   "source": [
    "<br>"
   ]
  },
  {
   "cell_type": "markdown",
   "id": "37919623",
   "metadata": {},
   "source": [
    "## LU Decomposition"
   ]
  },
  {
   "cell_type": "code",
   "execution_count": 4,
   "id": "349babcf",
   "metadata": {},
   "outputs": [],
   "source": [
    "# importing linalg from scipy\n",
    "import scipy.linalg as la"
   ]
  },
  {
   "cell_type": "markdown",
   "id": "7a1d4543",
   "metadata": {},
   "source": [
    "<div class=\"alert alert-block alert-info\">\n",
    "<b> LU Decomposition  </b> \n",
    "    <br>\n",
    "     In LU deecpomposition, L is Lowertriangular and U is Uppertriangular\n",
    "</div>"
   ]
  },
  {
   "cell_type": "code",
   "execution_count": 5,
   "id": "4902e41d",
   "metadata": {},
   "outputs": [],
   "source": [
    "# LU Decomposition\n",
    "P, L, U = la.lu(A)"
   ]
  },
  {
   "cell_type": "code",
   "execution_count": 6,
   "id": "02da1ee4",
   "metadata": {},
   "outputs": [
    {
     "data": {
      "text/plain": [
       "array([[0., 1., 0.],\n",
       "       [1., 0., 0.],\n",
       "       [0., 0., 1.]])"
      ]
     },
     "execution_count": 6,
     "metadata": {},
     "output_type": "execute_result"
    }
   ],
   "source": [
    "P"
   ]
  },
  {
   "cell_type": "code",
   "execution_count": 7,
   "id": "cc914796",
   "metadata": {},
   "outputs": [
    {
     "data": {
      "text/plain": [
       "array([[1.        , 0.        , 0.        ],\n",
       "       [0.66666667, 1.        , 0.        ],\n",
       "       [0.33333333, 0.5       , 1.        ]])"
      ]
     },
     "execution_count": 7,
     "metadata": {},
     "output_type": "execute_result"
    }
   ],
   "source": [
    "L"
   ]
  },
  {
   "cell_type": "code",
   "execution_count": 8,
   "id": "38828484",
   "metadata": {},
   "outputs": [
    {
     "data": {
      "text/plain": [
       "array([[ 3.        , -2.        ,  1.        ],\n",
       "       [ 0.        ,  1.33333333, -0.66666667],\n",
       "       [ 0.        ,  0.        ,  1.        ]])"
      ]
     },
     "execution_count": 8,
     "metadata": {},
     "output_type": "execute_result"
    }
   ],
   "source": [
    "U"
   ]
  },
  {
   "cell_type": "code",
   "execution_count": 9,
   "id": "a82d4ac3",
   "metadata": {},
   "outputs": [
    {
     "data": {
      "text/plain": [
       "array([[ 3., -2.,  1.],\n",
       "       [ 2.,  0.,  0.],\n",
       "       [ 1.,  0.,  1.]])"
      ]
     },
     "execution_count": 9,
     "metadata": {},
     "output_type": "execute_result"
    }
   ],
   "source": [
    "np.dot(L,U)"
   ]
  },
  {
   "cell_type": "code",
   "execution_count": 10,
   "id": "e176e39e",
   "metadata": {},
   "outputs": [],
   "source": [
    "S = np.dot(P, L)"
   ]
  },
  {
   "cell_type": "code",
   "execution_count": 11,
   "id": "bd415d28",
   "metadata": {},
   "outputs": [
    {
     "data": {
      "text/plain": [
       "array([[ 2.,  0.,  0.],\n",
       "       [ 3., -2.,  1.],\n",
       "       [ 1.,  0.,  1.]])"
      ]
     },
     "execution_count": 11,
     "metadata": {},
     "output_type": "execute_result"
    }
   ],
   "source": [
    "# When we take product of P, L and U, we get the original matrix that we decomposed earlier.\n",
    "np.dot(S, U)"
   ]
  },
  {
   "cell_type": "markdown",
   "id": "8fcf10a3",
   "metadata": {},
   "source": [
    "<br>"
   ]
  },
  {
   "cell_type": "markdown",
   "id": "64598716",
   "metadata": {},
   "source": [
    "## Solving the system of linear equations"
   ]
  },
  {
   "cell_type": "markdown",
   "id": "b2c72b42",
   "metadata": {},
   "source": [
    "### Checking the number of solutions"
   ]
  },
  {
   "cell_type": "code",
   "execution_count": 12,
   "id": "37be3637",
   "metadata": {},
   "outputs": [
    {
     "name": "stdout",
     "output_type": "stream",
     "text": [
      "The system of equations has a unique solution.\n"
     ]
    }
   ],
   "source": [
    "rankA=np.linalg.matrix_rank(A)\n",
    "\n",
    "aug_matrix=np.column_stack((A,b))\n",
    "\n",
    "rank_aug_m=np.linalg.matrix_rank(aug_matrix)\n",
    "\n",
    "if (rankA==rank_aug_m) and (rank_aug_m==np.shape(A)[0]):\n",
    "    print(\"The system of equations has a unique solution.\")\n",
    "    \n",
    "elif (rankA==rank_aug_m) and (rank_aug_m< np.shape(A)[0]):\n",
    "    print(\"The system of equations has infinitely many solutions.\")\n",
    "    \n",
    "if(rankA < rank_aug_m):\n",
    "    print(\" The system of equations is inconsistent.\")"
   ]
  },
  {
   "cell_type": "markdown",
   "id": "23a080c7",
   "metadata": {},
   "source": [
    "### Solving the equations"
   ]
  },
  {
   "cell_type": "code",
   "execution_count": 13,
   "id": "14accf54",
   "metadata": {},
   "outputs": [
    {
     "name": "stdout",
     "output_type": "stream",
     "text": [
      "The solution is : \n",
      " [ 1. -3. -4.]\n"
     ]
    }
   ],
   "source": [
    "# Solving the equation Ax=b\n",
    "x = la.solve(A,b)\n",
    "\n",
    "print(\"The solution is : \\n\",x)"
   ]
  },
  {
   "cell_type": "markdown",
   "id": "82cbf96a",
   "metadata": {},
   "source": [
    "<br>"
   ]
  },
  {
   "cell_type": "markdown",
   "id": "31eecf2a",
   "metadata": {},
   "source": [
    "<br>"
   ]
  },
  {
   "cell_type": "markdown",
   "id": "373fd52f",
   "metadata": {},
   "source": [
    "## Diagonalization"
   ]
  },
  {
   "cell_type": "code",
   "execution_count": 14,
   "id": "69f4f5f2",
   "metadata": {},
   "outputs": [],
   "source": [
    "from sympy import *"
   ]
  },
  {
   "cell_type": "code",
   "execution_count": 15,
   "id": "b4299630",
   "metadata": {},
   "outputs": [
    {
     "data": {
      "text/latex": [
       "$\\displaystyle \\left[\\begin{matrix}2 & 0 & 0\\\\3 & -2 & 1\\\\1 & 0 & 1\\end{matrix}\\right]$"
      ],
      "text/plain": [
       "Matrix([\n",
       "[2,  0, 0],\n",
       "[3, -2, 1],\n",
       "[1,  0, 1]])"
      ]
     },
     "execution_count": 15,
     "metadata": {},
     "output_type": "execute_result"
    }
   ],
   "source": [
    "M = Matrix([[2, 0, 0], [3, -2, 1], [1, 0, 1]])\n",
    "M"
   ]
  },
  {
   "cell_type": "code",
   "execution_count": 16,
   "id": "3c3dc1da",
   "metadata": {},
   "outputs": [],
   "source": [
    "# Diagonalizing the matrix\n",
    "S, D = M.diagonalize()"
   ]
  },
  {
   "cell_type": "code",
   "execution_count": 17,
   "id": "e8168785",
   "metadata": {},
   "outputs": [
    {
     "data": {
      "text/latex": [
       "$\\displaystyle \\left[\\begin{matrix}0 & 0 & 1\\\\1 & 1 & 1\\\\0 & 3 & 1\\end{matrix}\\right]$"
      ],
      "text/plain": [
       "Matrix([\n",
       "[0, 0, 1],\n",
       "[1, 1, 1],\n",
       "[0, 3, 1]])"
      ]
     },
     "execution_count": 17,
     "metadata": {},
     "output_type": "execute_result"
    }
   ],
   "source": [
    "S"
   ]
  },
  {
   "cell_type": "code",
   "execution_count": 18,
   "id": "cfbc6bd3",
   "metadata": {
    "scrolled": true
   },
   "outputs": [
    {
     "data": {
      "text/latex": [
       "$\\displaystyle \\left[\\begin{matrix}-2 & 0 & 0\\\\0 & 1 & 0\\\\0 & 0 & 2\\end{matrix}\\right]$"
      ],
      "text/plain": [
       "Matrix([\n",
       "[-2, 0, 0],\n",
       "[ 0, 1, 0],\n",
       "[ 0, 0, 2]])"
      ]
     },
     "execution_count": 18,
     "metadata": {},
     "output_type": "execute_result"
    }
   ],
   "source": [
    "D"
   ]
  },
  {
   "cell_type": "markdown",
   "id": "91eb1f08",
   "metadata": {},
   "source": [
    "<div class=\"alert alert-block alert-info\">\n",
    "To check if we have successfully diagonalized the matrix, we can take the product of SDS<sup>-1</sup> and it should be equal to the original matrix.\n",
    "</div>"
   ]
  },
  {
   "cell_type": "code",
   "execution_count": 19,
   "id": "32669987",
   "metadata": {},
   "outputs": [
    {
     "name": "stdout",
     "output_type": "stream",
     "text": [
      "Successfully diagonalized\n"
     ]
    }
   ],
   "source": [
    "# coparison of the above product and original matrix\n",
    "Product = S*D*S**(-1)\n",
    "\n",
    "if S*D*S**-1==M:\n",
    "    print(\"Successfully diagonalized\")\n"
   ]
  },
  {
   "cell_type": "markdown",
   "id": "418ad233",
   "metadata": {},
   "source": [
    "<br>"
   ]
  },
  {
   "cell_type": "markdown",
   "id": "623e3bc8",
   "metadata": {},
   "source": [
    "## Exponential, Sine and Sigmoid functions on A"
   ]
  },
  {
   "cell_type": "code",
   "execution_count": 20,
   "id": "dd4737ad",
   "metadata": {},
   "outputs": [
    {
     "name": "stdout",
     "output_type": "stream",
     "text": [
      "[[ 7.3890561   1.          1.        ]\n",
      " [20.08553692  0.13533528  2.71828183]\n",
      " [ 2.71828183  1.          2.71828183]]\n"
     ]
    }
   ],
   "source": [
    "# Exponential function\n",
    "expA = np.exp(A)\n",
    "print(expA)"
   ]
  },
  {
   "cell_type": "code",
   "execution_count": 21,
   "id": "e2ddd2a3",
   "metadata": {},
   "outputs": [
    {
     "name": "stdout",
     "output_type": "stream",
     "text": [
      "Sine of A : \n",
      " [[ 0.90929743  0.          0.        ]\n",
      " [ 0.14112001 -0.90929743  0.84147098]\n",
      " [ 0.84147098  0.          0.84147098]]\n"
     ]
    }
   ],
   "source": [
    "# Sine function\n",
    "SinA = np.sin(A)\n",
    "print(\"Sine of A : \\n\",SinA)"
   ]
  },
  {
   "cell_type": "code",
   "execution_count": 22,
   "id": "8b8bf6a3",
   "metadata": {},
   "outputs": [
    {
     "name": "stdout",
     "output_type": "stream",
     "text": [
      "Sigmoid function of A :\n",
      " [[0.88079708 0.5        0.5       ]\n",
      " [0.95257413 0.11920292 0.73105858]\n",
      " [0.73105858 0.5        0.73105858]]\n"
     ]
    }
   ],
   "source": [
    "# Sigmoid Function\n",
    "def sigmoid(X):\n",
    "    return 1.0/(1.0 + np.exp(-X))\n",
    "\n",
    "SigA = sigmoid(A)\n",
    "\n",
    "print(\"Sigmoid function of A :\\n\",SigA)"
   ]
  },
  {
   "cell_type": "markdown",
   "id": "66f48f67",
   "metadata": {},
   "source": [
    "<br>"
   ]
  },
  {
   "cell_type": "markdown",
   "id": "af5a5f0f",
   "metadata": {},
   "source": [
    "## Eigen values and Eigen vector"
   ]
  },
  {
   "cell_type": "code",
   "execution_count": 23,
   "id": "e8e31712",
   "metadata": {},
   "outputs": [
    {
     "name": "stdout",
     "output_type": "stream",
     "text": [
      "Eigen values : \n",
      " [-2.+0.j  1.+0.j  2.+0.j]\n",
      "\n",
      "Eigen vector : \n",
      " [[0.         0.         0.57735027]\n",
      " [1.         0.31622777 0.57735027]\n",
      " [0.         0.9486833  0.57735027]]\n"
     ]
    }
   ],
   "source": [
    "# Calculating Eigen values and Eigen vectors\n",
    "\n",
    "evalues, evectors = la.eig(A)\n",
    "\n",
    "print(\"Eigen values : \\n\",evalues)\n",
    "print()\n",
    "print(\"Eigen vector : \\n\",evectors)"
   ]
  }
 ],
 "metadata": {
  "kernelspec": {
   "display_name": "Python 3 (ipykernel)",
   "language": "python",
   "name": "python3"
  },
  "language_info": {
   "codemirror_mode": {
    "name": "ipython",
    "version": 3
   },
   "file_extension": ".py",
   "mimetype": "text/x-python",
   "name": "python",
   "nbconvert_exporter": "python",
   "pygments_lexer": "ipython3",
   "version": "3.9.7"
  }
 },
 "nbformat": 4,
 "nbformat_minor": 5
}
